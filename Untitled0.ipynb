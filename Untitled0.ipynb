{
  "nbformat": 4,
  "nbformat_minor": 0,
  "metadata": {
    "colab": {
      "name": "Untitled0.ipynb",
      "provenance": [],
      "collapsed_sections": [],
      "mount_file_id": "1rsmrfA8Qs3NQITa_AWjKPn1wlHlOWzc8",
      "authorship_tag": "ABX9TyN3xMMt+Eqz1Zu3ky8PQJnL",
      "include_colab_link": true
    },
    "kernelspec": {
      "name": "python3",
      "display_name": "Python 3"
    },
    "language_info": {
      "name": "python"
    }
  },
  "cells": [
    {
      "cell_type": "markdown",
      "metadata": {
        "id": "view-in-github",
        "colab_type": "text"
      },
      "source": [
        "<a href=\"https://colab.research.google.com/github/yoo-minho/TIL/blob/main/Untitled0.ipynb\" target=\"_parent\"><img src=\"https://colab.research.google.com/assets/colab-badge.svg\" alt=\"Open In Colab\"/></a>"
      ]
    },
    {
      "cell_type": "code",
      "metadata": {
        "id": "CtBga_IKGzl-"
      },
      "source": [
        "import os\n",
        "import pandas as pd"
      ],
      "execution_count": 10,
      "outputs": []
    },
    {
      "cell_type": "code",
      "metadata": {
        "id": "D9TDhPudKT1Q"
      },
      "source": [
        "os.listdir('./drive/MyDrive/machine_learning_data')"
      ],
      "execution_count": null,
      "outputs": []
    },
    {
      "cell_type": "code",
      "metadata": {
        "id": "BLOcw2gZKWHH"
      },
      "source": [
        "# 데이터 폴더 src 변수 할당\n",
        "base_src = './drive/MyDrive/machine_learning_data'\n",
        "\n",
        "# friend.csv 파일 src 변수 할당\n",
        "friend_src = base_src + '/friend.csv' "
      ],
      "execution_count": 9,
      "outputs": []
    },
    {
      "cell_type": "code",
      "metadata": {
        "id": "jClngWN8LOTN"
      },
      "source": [
        "# pandas의 read_csv => 데이터 불러오기\n",
        "df = pd.read_csv(friend_src, encoding='utf-8')"
      ],
      "execution_count": 12,
      "outputs": []
    },
    {
      "cell_type": "code",
      "metadata": {
        "id": "SEp_QaQqLrnv"
      },
      "source": [
        "# head() 데이터를 읽어보기 => 디폴트로 5개 정도만 읽기\n",
        "df.head()"
      ],
      "execution_count": null,
      "outputs": []
    },
    {
      "cell_type": "code",
      "metadata": {
        "id": "0ZnPAnRPLuMx"
      },
      "source": [
        "new_friend_src = base_src + \"/new_friend.csv\""
      ],
      "execution_count": 21,
      "outputs": []
    },
    {
      "cell_type": "code",
      "metadata": {
        "id": "u4hTji0pMTeV"
      },
      "source": [
        "# index=False 필수\n",
        "df.to_csv(new_friend_src, index=False,  encoding='utf-8')"
      ],
      "execution_count": 24,
      "outputs": []
    },
    {
      "cell_type": "code",
      "metadata": {
        "colab": {
          "base_uri": "https://localhost:8080/"
        },
        "id": "41QlMSFRMdLT",
        "outputId": "958de7ba-ff30-4f03-c046-b9230433637f"
      },
      "source": [
        "os.listdir(base_src)"
      ],
      "execution_count": 25,
      "outputs": [
        {
          "output_type": "execute_result",
          "data": {
            "text/plain": [
              "['friend.csv', '.ipynb_checkpoints', 'new_friend.csv']"
            ]
          },
          "metadata": {},
          "execution_count": 25
        }
      ]
    }
  ]
}